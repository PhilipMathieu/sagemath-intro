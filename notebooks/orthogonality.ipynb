{
 "cells": [
  {
   "cell_type": "code",
   "execution_count": 1,
   "metadata": {
    "vscode": {
     "languageId": "python"
    }
   },
   "outputs": [],
   "source": [
    "from sage.all import *"
   ]
  },
  {
   "cell_type": "markdown",
   "metadata": {},
   "source": [
    "Let $u = \\{1,-3,4\\}$ and $v=\\{3,4,7\\}$. Find $ \\cos \\theta$, where $\\theta$ is the angle between $u$ and $v$."
   ]
  },
  {
   "cell_type": "code",
   "execution_count": 1,
   "metadata": {
    "vscode": {
     "languageId": "python"
    }
   },
   "outputs": [],
   "source": [
    "u = vector([1,-3,4])\n",
    "v = vector([3,4,7])"
   ]
  },
  {
   "cell_type": "code",
   "execution_count": 5,
   "metadata": {
    "vscode": {
     "languageId": "python"
    }
   },
   "outputs": [
    {
     "name": "stdout",
     "output_type": "stream",
     "text": [
      "19/1924*sqrt(74)*sqrt(26)\n",
      "0.433162714958175\n"
     ]
    }
   ],
   "source": [
    "cos_theta = u*v/(u.norm()*v.norm())\n",
    "print(cos_theta)\n",
    "print(cos_theta.numerical_approx())"
   ]
  },
  {
   "cell_type": "markdown",
   "metadata": {},
   "source": [
    "Find $\\text{proj} (u, v)$ which is the projection of $u$ onto $v$."
   ]
  },
  {
   "cell_type": "code",
   "execution_count": 7,
   "metadata": {
    "vscode": {
     "languageId": "python"
    }
   },
   "outputs": [
    {
     "name": "stdout",
     "output_type": "stream",
     "text": [
      "(57/74, 38/37, 133/74)\n"
     ]
    }
   ],
   "source": [
    "proj = (u*v)/(v.norm()**2)*v\n",
    "print(proj)"
   ]
  },
  {
   "cell_type": "markdown",
   "metadata": {},
   "source": [
    "Find $d \\: (u, v)$ which is the distance between $u$ and $v$."
   ]
  },
  {
   "cell_type": "code",
   "execution_count": 9,
   "metadata": {
    "vscode": {
     "languageId": "python"
    }
   },
   "outputs": [
    {
     "name": "stdout",
     "output_type": "stream",
     "text": [
      "sqrt(62)\n"
     ]
    }
   ],
   "source": [
    "d = (u-v).norm()\n",
    "print(d)"
   ]
  },
  {
   "cell_type": "markdown",
   "metadata": {},
   "source": [
    "Let\n",
    "$$\n",
    "A=\n",
    "\\begin{pmatrix}\n",
    "9 & 8 & 7 \\\\\n",
    "6 & 5 &  4 \n",
    "\\end{pmatrix}\n",
    ", B=\n",
    "\\begin{pmatrix}\n",
    "1 & 2 &  3 \\\\\n",
    "4 & 5 & 6\n",
    "\\end{pmatrix}\n",
    "$$\n",
    "\n",
    "Find $\\cos \\theta$ where $<A,B> = tr \\{B^{T}A\\}$.\n"
   ]
  },
  {
   "cell_type": "code",
   "execution_count": 11,
   "metadata": {
    "vscode": {
     "languageId": "python"
    }
   },
   "outputs": [
    {
     "name": "stdout",
     "output_type": "stream",
     "text": [
      "0.7605565703760226\n"
     ]
    }
   ],
   "source": [
    "A = Matrix([[9,8,7],[6,5,4]])\n",
    "B = Matrix([[1,2,3],[4,5,6]])\n",
    "cos_theta_AB = (B.T*A).trace()/(A.norm()*B.norm())\n",
    "print(cos_theta_AB)"
   ]
  }
 ],
 "metadata": {
  "kernelspec": {
   "display_name": "SageMath 9.5",
   "language": "sage",
   "name": "sagemath"
  },
  "language_info": {
   "codemirror_mode": {
    "name": "ipython",
    "version": 3
   },
   "file_extension": ".py",
   "mimetype": "text/x-python",
   "name": "sage",
   "nbconvert_exporter": "python",
   "pygments_lexer": "ipython3",
   "version": "3.10.2"
  },
  "orig_nbformat": 4
 },
 "nbformat": 4,
 "nbformat_minor": 2
}
