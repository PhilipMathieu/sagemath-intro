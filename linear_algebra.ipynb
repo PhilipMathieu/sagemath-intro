{
 "cells": [
  {
   "cell_type": "markdown",
   "metadata": {},
   "source": [
    "## 0. Import SageMath"
   ]
  },
  {
   "cell_type": "code",
   "execution_count": null,
   "metadata": {},
   "outputs": [],
   "source": [
    "from sage.all import *"
   ]
  },
  {
   "cell_type": "markdown",
   "metadata": {},
   "source": [
    "## 1. Basic Vectors"
   ]
  },
  {
   "cell_type": "code",
   "execution_count": null,
   "metadata": {},
   "outputs": [],
   "source": [
    "v_1 = vector([0,1,2])\n",
    "v_2 = vector([1,2,3])\n",
    "\n",
    "# element-wise addition and subtraction\n",
    "difference = v_1 - v_2\n",
    "print(v_1, \"minus\", v_2, \"=\", difference)\n",
    "\n",
    "# dot product\n",
    "dot_product = v_1 * v_2\n",
    "print(v_1, \"*\", v_2, \"=\", dot_product)"
   ]
  },
  {
   "cell_type": "code",
   "execution_count": null,
   "metadata": {},
   "outputs": [],
   "source": [
    "# convert to a row of a matrix\n",
    "print(\"v_1 as a row:\")\n",
    "print(v_1.row())\n",
    "\n",
    "# convert to a column of a matrix\n",
    "print(\"v_1 as a column:\")\n",
    "print(v_1.column())\n",
    "\n",
    "# calculate L2 norm (magnitude)\n",
    "print(\"L2 Norm of v_1:\")\n",
    "print(norm(v_1))\n",
    "\n",
    "# calculate the distance using the difference we computed earlier\n",
    "print(\"Distance:\")\n",
    "print(difference.norm())"
   ]
  },
  {
   "cell_type": "markdown",
   "metadata": {},
   "source": [
    "## 2. Matrices\n",
    "Note: Sage uses brackets for matrices and parentheses for vectors."
   ]
  },
  {
   "cell_type": "code",
   "execution_count": null,
   "metadata": {},
   "outputs": [],
   "source": [
    "M = Matrix([[11,12,13],[21,22,23],[31,32,33]])\n",
    "print(\"M:\")\n",
    "print(M)\n",
    "print(\"Transpose of M:\")\n",
    "print(M.transpose())\n",
    "print(\"Another way:\")\n",
    "print(M.T)"
   ]
  },
  {
   "cell_type": "code",
   "execution_count": null,
   "metadata": {},
   "outputs": [],
   "source": [
    "# check the rank of a matrix\n",
    "print(\"rank(M) =\",M.rank())\n",
    "\n",
    "# get the echelon form\n",
    "print(M.rref())\n",
    "\n",
    "# get the LU factorization\n",
    "M_LU = M.LU()\n",
    "print(\"Permutation:\")\n",
    "print(M_LU[0])\n",
    "print(\"Lower:\")\n",
    "print(M_LU[1])\n",
    "print(\"Upper:\")\n",
    "print(M_LU[2])"
   ]
  },
  {
   "cell_type": "markdown",
   "metadata": {},
   "source": [
    "[For more information, visit the SageMath official docs.](https://doc.sagemath.org/html/en/tutorial/tour_linalg.html)"
   ]
  },
  {
   "cell_type": "markdown",
   "metadata": {},
   "source": [
    "TODO: Eigenvectors/values, solving matrix equations, examples"
   ]
  }
 ],
 "metadata": {
  "kernelspec": {
   "display_name": "Python 3 (ipykernel)",
   "language": "python",
   "name": "python3"
  },
  "language_info": {
   "codemirror_mode": {
    "name": "ipython",
    "version": 3
   },
   "file_extension": ".py",
   "mimetype": "text/x-python",
   "name": "python",
   "nbconvert_exporter": "python",
   "pygments_lexer": "ipython3",
   "version": "3.10.2"
  },
  "vscode": {
   "interpreter": {
    "hash": "2748b60243be5c8b341ff81c2ad400f299aa6abc3e9d701712469810de47b9d8"
   }
  }
 },
 "nbformat": 4,
 "nbformat_minor": 2
}
