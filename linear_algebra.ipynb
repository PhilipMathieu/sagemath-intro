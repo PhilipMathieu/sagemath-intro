{
 "cells": [
  {
   "cell_type": "markdown",
   "metadata": {},
   "source": [
    "[For more information, visit the SageMath official docs.](https://doc.sagemath.org/html/en/tutorial/tour_linalg.html)"
   ]
  },
  {
   "cell_type": "markdown",
   "metadata": {},
   "source": [
    "## 0. Import SageMath"
   ]
  },
  {
   "cell_type": "code",
   "execution_count": null,
   "metadata": {
    "vscode": {
     "languageId": "python"
    }
   },
   "outputs": [],
   "source": [
    "from sage.all import *"
   ]
  },
  {
   "cell_type": "markdown",
   "metadata": {},
   "source": [
    "## 1. Basic Vector Operations"
   ]
  },
  {
   "cell_type": "code",
   "execution_count": null,
   "metadata": {
    "vscode": {
     "languageId": "python"
    }
   },
   "outputs": [],
   "source": [
    "# instantiating a new vector()\n",
    "v_1 = vector([0,1,2])\n",
    "v_2 = vector([1,2,3])\n",
    "\n",
    "# element-wise addition and subtraction\n",
    "difference = v_1 - v_2\n",
    "print(v_1, \"minus\", v_2, \"=\", difference)\n",
    "\n",
    "# dot product\n",
    "dot_product = v_1 * v_2\n",
    "print(v_1, \"*\", v_2, \"=\", dot_product)"
   ]
  },
  {
   "cell_type": "markdown",
   "metadata": {},
   "source": [
    "### Exercise 1.1\n",
    "Calculate the result of following vector equation:\n",
    "$$\n",
    "2(u + v) \\cdot v\n",
    "$$\n",
    "where $u = (0,6,0,3)$ and $v=(1,2,0,7)$."
   ]
  },
  {
   "cell_type": "code",
   "execution_count": null,
   "metadata": {
    "vscode": {
     "languageId": "python"
    }
   },
   "outputs": [],
   "source": [
    "# Add your code here"
   ]
  },
  {
   "cell_type": "markdown",
   "metadata": {},
   "source": [
    "## 2. Vector Functions"
   ]
  },
  {
   "cell_type": "code",
   "execution_count": null,
   "metadata": {
    "vscode": {
     "languageId": "python"
    }
   },
   "outputs": [],
   "source": [
    "# convert a vector to a row of a matrix\n",
    "print(\"v_1 as a row:\")\n",
    "print(v_1.row())\n",
    "\n",
    "# convert a vector to a column of a matrix\n",
    "print(\"v_1 as a column:\")\n",
    "print(v_1.column())\n",
    "\n",
    "# calculate L2 norm (magnitude)\n",
    "print(\"L2 Norm of v_1:\")\n",
    "print(norm(v_1))\n",
    "\n",
    "# calculate the distance using the difference we computed earlier\n",
    "print(\"Distance:\")\n",
    "print(difference.norm())"
   ]
  },
  {
   "cell_type": "markdown",
   "metadata": {},
   "source": [
    "### Exercise 2.1\n",
    "Compute the dot product by converting the vectors into a matrix multiplication, i.e.:\n",
    "$$\n",
    "(0,6,0,3) \\cdot (1,2,0,7) \\sim \\begin{bmatrix} 0&6&0&3 \\end{bmatrix} * \\begin{bmatrix} 1 \\\\ 2 \\\\ 0 \\\\ 7 \\end{bmatrix}\n",
    "$$"
   ]
  },
  {
   "cell_type": "code",
   "execution_count": null,
   "metadata": {
    "vscode": {
     "languageId": "python"
    }
   },
   "outputs": [],
   "source": [
    "# Add your code here"
   ]
  },
  {
   "cell_type": "markdown",
   "metadata": {},
   "source": [
    "### Excercise 2.2\n",
    "Calculate the distance ($\\ell^2$ norm) between $u$ and $v$."
   ]
  },
  {
   "cell_type": "code",
   "execution_count": null,
   "metadata": {
    "vscode": {
     "languageId": "python"
    }
   },
   "outputs": [],
   "source": [
    "# Add your code here"
   ]
  },
  {
   "cell_type": "markdown",
   "metadata": {},
   "source": [
    "## 3. Matrices\n",
    "_Note: Sagemath outputs vectors with parentheses and matrices with brackets. This can be helpful when you are trying to check quickly whether a given variable is vector or a matrix._"
   ]
  },
  {
   "cell_type": "code",
   "execution_count": null,
   "metadata": {
    "vscode": {
     "languageId": "python"
    }
   },
   "outputs": [],
   "source": [
    "M = Matrix([[11,12,13],[21,22,23],[31,32,33]])\n",
    "print(\"M:\")\n",
    "print(M)\n",
    "print(\"Transpose of M:\")\n",
    "print(M.transpose())\n",
    "print(\"Transpose of M, another way:\")\n",
    "print(M.T)\n",
    "print(\"Dimensions of M:\")\n",
    "print(M.dimensions())"
   ]
  },
  {
   "cell_type": "markdown",
   "metadata": {},
   "source": [
    "### Exercise 3.1\n"
   ]
  },
  {
   "cell_type": "markdown",
   "metadata": {},
   "source": [
    "Complete the function below, which checks if two matrices can be multiplied."
   ]
  },
  {
   "cell_type": "code",
   "execution_count": 18,
   "metadata": {
    "vscode": {
     "languageId": "python"
    }
   },
   "outputs": [],
   "source": [
    "A = Matrix([[1,2],[3,4]])\n",
    "B1 = Matrix([[5],[5]])\n",
    "B2 = Matrix([[5,5]])"
   ]
  },
  {
   "cell_type": "code",
   "execution_count": null,
   "metadata": {
    "vscode": {
     "languageId": "python"
    }
   },
   "outputs": [],
   "source": [
    "def check_product(A, B):\n",
    "    '''\n",
    "    Input: Two matrices A and B, not necessarily of compatible dimensions\n",
    "    Output: True if the matrices can be multiplied, otherwise false\n",
    "    '''\n",
    "    dim_A = # YOUR CODE HERE\n",
    "    dim_B = # YOUR CODE HERE\n",
    "    if (): # YOUR CODE HERE\n",
    "        return True\n",
    "    else:\n",
    "        return False\n",
    "\n",
    "print(check_product(A,B1))\n",
    "print(check_product(A,B2))"
   ]
  },
  {
   "cell_type": "code",
   "execution_count": 22,
   "metadata": {
    "vscode": {
     "languageId": "python"
    }
   },
   "outputs": [
    {
     "name": "stdout",
     "output_type": "stream",
     "text": [
      "Matrix Product A*B1:\n",
      "[15]\n",
      "[35]\n"
     ]
    }
   ],
   "source": [
    "# multiply two matrices:\n",
    "print(\"Matrix Product A*B1:\")\n",
    "print(A*B1)"
   ]
  },
  {
   "cell_type": "code",
   "execution_count": 23,
   "metadata": {
    "vscode": {
     "languageId": "python"
    }
   },
   "outputs": [
    {
     "name": "stdout",
     "output_type": "stream",
     "text": [
      "rank(M) = 2\n",
      "[ 1  0 -1]\n",
      "[ 0  1  2]\n",
      "[ 0  0  0]\n",
      "Permutation:\n",
      "[0 1 0]\n",
      "[0 0 1]\n",
      "[1 0 0]\n",
      "Lower:\n",
      "[    1     0     0]\n",
      "[11/31     1     0]\n",
      "[21/31   1/2     1]\n",
      "Upper:\n",
      "[   31    32    33]\n",
      "[    0 20/31 40/31]\n",
      "[    0     0     0]\n"
     ]
    }
   ],
   "source": [
    "# check the rank of a matrix\n",
    "print(\"rank(M) =\", M.rank())\n",
    "\n",
    "# get the echelon form\n",
    "print(M.rref())\n",
    "\n",
    "# get the LU factorization\n",
    "M_LU = M.LU()\n",
    "print(\"Permutation:\")\n",
    "print(M_LU[0])\n",
    "print(\"Lower:\")\n",
    "print(M_LU[1])\n",
    "print(\"Upper:\")\n",
    "print(M_LU[2])"
   ]
  },
  {
   "cell_type": "markdown",
   "metadata": {},
   "source": [
    "### Exercise 3.2\n",
    "Reduce the following matrix to row echelon form:\n",
    "$$\n",
    "\\begin{pmatrix}\n",
    "2 & 2 & -1 & 6 & 4\\\\\n",
    "4 & 4 &  1 & 10 & 13\\\\\n",
    "8 & 8 & -1 & 26 & 23\n",
    "\n",
    "\\end{pmatrix}\n",
    "$$"
   ]
  },
  {
   "cell_type": "code",
   "execution_count": null,
   "metadata": {
    "vscode": {
     "languageId": "python"
    }
   },
   "outputs": [],
   "source": [
    "# Add you code here"
   ]
  },
  {
   "cell_type": "code",
   "execution_count": 27,
   "metadata": {
    "vscode": {
     "languageId": "python"
    }
   },
   "outputs": [
    {
     "name": "stdout",
     "output_type": "stream",
     "text": [
      "Solution:\n",
      "(1/5, -1/10, 0)\n",
      "Check that the product returns the original vector:\n",
      "(1, 2, 3)\n"
     ]
    }
   ],
   "source": [
    "# solve a matrix equation\n",
    "v_right = vector([1,2,3])\n",
    "v_solution = M.solve_right(v_right)\n",
    "print(\"Solution:\")\n",
    "print(v_solution)\n",
    "print(\"Check that the product returns the original vector:\")\n",
    "print(M*v_solution)"
   ]
  },
  {
   "cell_type": "markdown",
   "metadata": {},
   "source": [
    "Coming Soon: Eigenvectors/values"
   ]
  },
  {
   "cell_type": "markdown",
   "metadata": {},
   "source": []
  }
 ],
 "metadata": {
  "kernelspec": {
   "display_name": "SageMath 9.5",
   "language": "sage",
   "name": "sagemath"
  },
  "language_info": {
   "codemirror_mode": {
    "name": "ipython",
    "version": 3
   },
   "file_extension": ".py",
   "mimetype": "text/x-python",
   "name": "sage",
   "nbconvert_exporter": "python",
   "pygments_lexer": "ipython3",
   "version": "3.10.2"
  },
  "vscode": {
   "interpreter": {
    "hash": "2748b60243be5c8b341ff81c2ad400f299aa6abc3e9d701712469810de47b9d8"
   }
  }
 },
 "nbformat": 4,
 "nbformat_minor": 2
}
